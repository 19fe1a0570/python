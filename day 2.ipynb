{
 "cells": [
  {
   "cell_type": "markdown",
   "metadata": {},
   "source": [
    "# Program-1"
   ]
  },
  {
   "cell_type": "code",
   "execution_count": null,
   "metadata": {},
   "outputs": [],
   "source": [
    "n=int(input())\n",
    "if n>0:\n",
    "    print(\"Num is Positive\")\n",
    "elif n<0:\n",
    "    print(\"Num is Negetive\")\n",
    "else:\n",
    "    print(\"Out of range\")"
   ]
  },
  {
   "cell_type": "markdown",
   "metadata": {},
   "source": [
    "# Program-2"
   ]
  },
  {
   "cell_type": "code",
   "execution_count": 8,
   "metadata": {},
   "outputs": [
    {
     "name": "stdout",
     "output_type": "stream",
     "text": [
      "may\n",
      "31 days\n"
     ]
    }
   ],
   "source": [
    "n=input()\n",
    "if n==\"april\" or n==\"june\" or n==\"september\" or n==\"november\":\n",
    "    print(\"30 days\")\n",
    "else:\n",
    "    if n==\"february\":\n",
    "        print(\"28 or 29 days\")\n",
    "    else:\n",
    "        print(\"31 days\")"
   ]
  },
  {
   "cell_type": "markdown",
   "metadata": {},
   "source": [
    "# Program-3"
   ]
  },
  {
   "cell_type": "code",
   "execution_count": 12,
   "metadata": {},
   "outputs": [
    {
     "name": "stdout",
     "output_type": "stream",
     "text": [
      "enter number of chocolates:12\n",
      "Number of friends:4\n",
      "equally distributed\n"
     ]
    }
   ],
   "source": [
    "n=int(input(\"enter number of chocolates:\"))\n",
    "m=int(input(\"Number of friends:\"))\n",
    "if n%m==0:\n",
    "    print(\"equally distributed\")\n",
    "else:\n",
    "    print(\"Not equally distributed\")"
   ]
  },
  {
   "cell_type": "markdown",
   "metadata": {},
   "source": [
    "# Program-4"
   ]
  },
  {
   "cell_type": "code",
   "execution_count": 16,
   "metadata": {},
   "outputs": [
    {
     "name": "stdout",
     "output_type": "stream",
     "text": [
      "12\n",
      "Even\n",
      "144\n"
     ]
    }
   ],
   "source": [
    "n=int(input())\n",
    "if (n%2==0):\n",
    "    print(\"Even\")\n",
    "    if n>10:\n",
    "        print(n*n)\n",
    "    elif n==10:\n",
    "        print(\"Equal to 10\")\n",
    "    else:\n",
    "        print(n*n*n)\n",
    "else:\n",
    "    print(\"odd\")"
   ]
  },
  {
   "cell_type": "markdown",
   "metadata": {},
   "source": [
    "# Program-4"
   ]
  },
  {
   "cell_type": "code",
   "execution_count": 22,
   "metadata": {},
   "outputs": [
    {
     "name": "stdout",
     "output_type": "stream",
     "text": [
      "User ID:99\n",
      "Real password:ww\n",
      "Invalid User Id\n"
     ]
    }
   ],
   "source": [
    "n=int(input(\"User ID:\"))\n",
    "m=input(\"Real password:\")\n",
    "if n>100 and n<200:\n",
    "    p=input(\"Password:\")\n",
    "    if p==m:\n",
    "        print(\"Welcome\")\n",
    "    else:\n",
    "        print(\"Invalid password\")\n",
    "else:\n",
    "    print(\"Invalid User Id\")"
   ]
  },
  {
   "cell_type": "markdown",
   "metadata": {},
   "source": [
    "# Program-5"
   ]
  },
  {
   "cell_type": "code",
   "execution_count": 24,
   "metadata": {},
   "outputs": [
    {
     "name": "stdout",
     "output_type": "stream",
     "text": [
      "121\n",
      "11\n",
      "enter your operaqtion:add\n",
      "132\n"
     ]
    }
   ],
   "source": [
    "n,m=int(input()),int(input())\n",
    "p=input(\"enter your operaqtion:\")\n",
    "if p==\"add\":\n",
    "    print(n+m)\n",
    "elif p==\"sub\":\n",
    "    print(n-m)\n",
    "elif p==\"mul\":\n",
    "    print(n*m)\n",
    "elif p==\"div\":\n",
    "    print(n/m)"
   ]
  },
  {
   "cell_type": "markdown",
   "metadata": {},
   "source": [
    "# Assignment questions\n",
    "# Program-6"
   ]
  },
  {
   "cell_type": "code",
   "execution_count": 25,
   "metadata": {},
   "outputs": [
    {
     "name": "stdout",
     "output_type": "stream",
     "text": [
      "a\n",
      "Vowel\n"
     ]
    }
   ],
   "source": [
    "n=input()\n",
    "if n in ('a','A','e','E','i','I','o','O','u','U'):\n",
    "    print(\"Vowel\")\n",
    "else:\n",
    "    peint(\"Not Vowel\")"
   ]
  },
  {
   "cell_type": "markdown",
   "metadata": {},
   "source": [
    "# Program-7"
   ]
  },
  {
   "cell_type": "code",
   "execution_count": 2,
   "metadata": {},
   "outputs": [
    {
     "name": "stdout",
     "output_type": "stream",
     "text": [
      "Enter age:18\n",
      "Vote eligible\n"
     ]
    }
   ],
   "source": [
    "n=int(input(\"Enter age:\"))\n",
    "if n>=18:\n",
    "    print(\"Vote eligible\")\n",
    "else:\n",
    "    print(\"Not eligible\")"
   ]
  },
  {
   "cell_type": "markdown",
   "metadata": {},
   "source": [
    "# Program-8"
   ]
  },
  {
   "cell_type": "code",
   "execution_count": 1,
   "metadata": {},
   "outputs": [
    {
     "name": "stdout",
     "output_type": "stream",
     "text": [
      "3\n",
      "Enter length180\n",
      "Enter height:640\n",
      "Enter height480\n",
      "Crop it\n",
      "Enter height:120\n",
      "Enter height300\n",
      "Upload photo\n",
      "Enter height:180\n",
      "Enter height180\n",
      "Accepted\n"
     ]
    }
   ],
   "source": [
    "n=int(input())\n",
    "l=int(input(\"Enter length\"))\n",
    "for i in range(n):\n",
    "    w=int(input(\"Enter height:\"))\n",
    "    h=int(input(\"Enter height\"))\n",
    "    if (w<l or h<l):\n",
    "        print(\"Upload photo\")\n",
    "    else:\n",
    "        if w==l and h==l:\n",
    "            print(\"Accepted\")\n",
    "        else:\n",
    "            print(\"Crop it\")\n"
   ]
  },
  {
   "cell_type": "markdown",
   "metadata": {},
   "source": [
    "# Loops\n",
    "- **For and While**"
   ]
  },
  {
   "cell_type": "markdown",
   "metadata": {},
   "source": [
    "# Program-9"
   ]
  },
  {
   "cell_type": "code",
   "execution_count": 4,
   "metadata": {},
   "outputs": [
    {
     "name": "stdout",
     "output_type": "stream",
     "text": [
      "1 2 3 4 5 6 7 8 9 10 "
     ]
    }
   ],
   "source": [
    "for i in range(1,11,1):\n",
    "    print(i,end=' ')"
   ]
  },
  {
   "cell_type": "code",
   "execution_count": 5,
   "metadata": {},
   "outputs": [
    {
     "name": "stdout",
     "output_type": "stream",
     "text": [
      "10 9 8 7 6 5 4 3 2 1 "
     ]
    }
   ],
   "source": [
    "for i in range(10,0,-1):\n",
    "    print(i,end=' ')"
   ]
  },
  {
   "cell_type": "code",
   "execution_count": 6,
   "metadata": {},
   "outputs": [
    {
     "name": "stdout",
     "output_type": "stream",
     "text": [
      "1 3 5 7 9 "
     ]
    }
   ],
   "source": [
    "for i in range(1,11,2):\n",
    "    print(i,end=' ')"
   ]
  },
  {
   "cell_type": "markdown",
   "metadata": {},
   "source": [
    "# Program-10"
   ]
  },
  {
   "cell_type": "code",
   "execution_count": 10,
   "metadata": {},
   "outputs": [
    {
     "name": "stdout",
     "output_type": "stream",
     "text": [
      "sum is: 55\n"
     ]
    }
   ],
   "source": [
    "s=0\n",
    "for i in range(11):\n",
    "    s+=i\n",
    "print(\"sum is:\",s)"
   ]
  },
  {
   "cell_type": "markdown",
   "metadata": {},
   "source": [
    "# Program-11"
   ]
  },
  {
   "cell_type": "code",
   "execution_count": 12,
   "metadata": {},
   "outputs": [
    {
     "name": "stdout",
     "output_type": "stream",
     "text": [
      "11\n",
      "20\n",
      "155\n"
     ]
    }
   ],
   "source": [
    "n=int(input())\n",
    "m=int(input())\n",
    "s=0\n",
    "for i in range(n,m+1):\n",
    "    s+=i\n",
    "print(s)\n",
    "    "
   ]
  },
  {
   "cell_type": "markdown",
   "metadata": {},
   "source": [
    "# Program-12"
   ]
  },
  {
   "cell_type": "code",
   "execution_count": 17,
   "metadata": {},
   "outputs": [
    {
     "name": "stdout",
     "output_type": "stream",
     "text": [
      "96\n",
      "1 2 3 4 6 8 12 16 24 32 48 96 "
     ]
    }
   ],
   "source": [
    "n=int(input())\n",
    "for i in range(1,n+1):\n",
    "    if n%i==0:\n",
    "        print(i,end=' ')"
   ]
  },
  {
   "cell_type": "markdown",
   "metadata": {},
   "source": [
    "# Program-13"
   ]
  },
  {
   "cell_type": "code",
   "execution_count": 25,
   "metadata": {},
   "outputs": [
    {
     "name": "stdout",
     "output_type": "stream",
     "text": [
      "2\n",
      "Prime\n"
     ]
    }
   ],
   "source": [
    "n=int(input())\n",
    "for i in range(2,n):\n",
    "    if n%i==0:\n",
    "        print(\"Not Prime\")\n",
    "        break\n",
    "else:\n",
    "    print(\"Prime\")"
   ]
  },
  {
   "cell_type": "code",
   "execution_count": 24,
   "metadata": {},
   "outputs": [
    {
     "name": "stdout",
     "output_type": "stream",
     "text": [
      "2\n",
      "prime\n"
     ]
    }
   ],
   "source": [
    "n=int(input())\n",
    "c=0\n",
    "for i in range(2,n):\n",
    "    if n%i==0:\n",
    "        c+=1\n",
    "if c==0:\n",
    "    print(\"prime\")\n",
    "else:\n",
    "    print(\"Not prime\")"
   ]
  },
  {
   "cell_type": "markdown",
   "metadata": {},
   "source": [
    "# Program-14"
   ]
  },
  {
   "cell_type": "code",
   "execution_count": 30,
   "metadata": {},
   "outputs": [
    {
     "name": "stdout",
     "output_type": "stream",
     "text": [
      "496\n",
      "Perfect number\n"
     ]
    }
   ],
   "source": [
    "n=int(input())\n",
    "s=0\n",
    "for i in range(1,n):\n",
    "    if n%i==0:\n",
    "        s+=i\n",
    "if s==n:\n",
    "    print(\"Perfect number\")\n",
    "else:\n",
    "    print(\"not perfect\")"
   ]
  },
  {
   "cell_type": "markdown",
   "metadata": {},
   "source": [
    "# Program-15"
   ]
  },
  {
   "cell_type": "code",
   "execution_count": 12,
   "metadata": {},
   "outputs": [
    {
     "name": "stdout",
     "output_type": "stream",
     "text": [
      "1\n",
      "10\n",
      "Even numbers are: 2 4 6 8 10 \n",
      "Even sum: 30\n",
      "Odd numbers are: 1 3 5 7 9 \n",
      "Odd sum: 25\n"
     ]
    }
   ],
   "source": [
    "m=int(input())\n",
    "n=int(input())\n",
    "s=0\n",
    "su=0\n",
    "print(\"Even numbers are:\",end=' ')\n",
    "for i in range(m,n+1):\n",
    "    if i%2==0:\n",
    "        print(i,end=' ')\n",
    "        s+=i\n",
    "print(\"\\nEven sum:\",s)\n",
    "print(\"Odd numbers are:\",end=' ')\n",
    "for i in range(m,n+1):\n",
    "    if i%2!=0:\n",
    "        print(i,end=' ')\n",
    "        su+=i\n",
    "print(\"\\nOdd sum:\",su)"
   ]
  },
  {
   "cell_type": "markdown",
   "metadata": {},
   "source": [
    "# Program-16"
   ]
  },
  {
   "cell_type": "code",
   "execution_count": 1,
   "metadata": {},
   "outputs": [
    {
     "name": "stdout",
     "output_type": "stream",
     "text": [
      "1\n",
      "15\n",
      "1\n",
      "2\n",
      "FIZZ\n",
      "4\n",
      "BUZZ\n",
      "FIZZ\n",
      "7\n",
      "8\n",
      "FIZZ\n",
      "BUZZ\n",
      "11\n",
      "FIZZ\n",
      "13\n",
      "14\n",
      "FIZZBUZZ\n"
     ]
    }
   ],
   "source": [
    "m=int(input())\n",
    "n=int(input())\n",
    "for i in range(m,n+1):\n",
    "    if i%3==0 and i%5==0:\n",
    "        print(\"FIZZBUZZ\")\n",
    "    elif i%5==0:\n",
    "        print(\"BUZZ\")\n",
    "    elif i%3==0:\n",
    "        print(\"FIZZ\")\n",
    "    else:\n",
    "        print(i)"
   ]
  },
  {
   "cell_type": "markdown",
   "metadata": {},
   "source": [
    "# Program-17"
   ]
  },
  {
   "cell_type": "code",
   "execution_count": 6,
   "metadata": {},
   "outputs": [
    {
     "name": "stdout",
     "output_type": "stream",
     "text": [
      "B --> 66\n",
      "D --> 68\n",
      "F --> 70\n",
      "H --> 72\n",
      "J --> 74\n",
      "L --> 76\n",
      "N --> 78\n",
      "P --> 80\n",
      "R --> 82\n",
      "T --> 84\n",
      "V --> 86\n",
      "X --> 88\n",
      "Z --> 90\n"
     ]
    }
   ],
   "source": [
    "for i in range(65,91):\n",
    "    if i%2==0:\n",
    "        print(chr(i),\"-->\",i)\n",
    "    "
   ]
  },
  {
   "cell_type": "markdown",
   "metadata": {},
   "source": [
    "# Program-18"
   ]
  },
  {
   "cell_type": "code",
   "execution_count": 10,
   "metadata": {},
   "outputs": [
    {
     "name": "stdout",
     "output_type": "stream",
     "text": [
      "1 2 3 4 5 6 7 8 9 10 "
     ]
    }
   ],
   "source": [
    "n=1\n",
    "while(n<=10):\n",
    "    print(n,end=' ')\n",
    "    n+=1"
   ]
  },
  {
   "cell_type": "markdown",
   "metadata": {},
   "source": [
    "# Program-19"
   ]
  },
  {
   "cell_type": "code",
   "execution_count": 14,
   "metadata": {},
   "outputs": [
    {
     "name": "stdout",
     "output_type": "stream",
     "text": [
      "10\n",
      "55\n"
     ]
    }
   ],
   "source": [
    "i=int(input())\n",
    "n=1\n",
    "s=0\n",
    "while(n<=i):\n",
    "    s+=n\n",
    "    n+=1\n",
    "print(s)"
   ]
  },
  {
   "cell_type": "markdown",
   "metadata": {},
   "source": [
    "# Program-20"
   ]
  },
  {
   "cell_type": "code",
   "execution_count": 17,
   "metadata": {},
   "outputs": [
    {
     "name": "stdout",
     "output_type": "stream",
     "text": [
      "123456\n",
      "digit count: 6\n"
     ]
    }
   ],
   "source": [
    "n=int(input())\n",
    "c=0\n",
    "while(n>0):\n",
    "    c+=1\n",
    "    n=n//10\n",
    "print(\"digit count:\",c)"
   ]
  },
  {
   "cell_type": "markdown",
   "metadata": {},
   "source": [
    "# Program-21"
   ]
  },
  {
   "cell_type": "code",
   "execution_count": 21,
   "metadata": {},
   "outputs": [
    {
     "name": "stdout",
     "output_type": "stream",
     "text": [
      "12435626673\n",
      "37662653421\n"
     ]
    }
   ],
   "source": [
    "n=int(input())\n",
    "s=0\n",
    "while(n>0):\n",
    "    p=n%10\n",
    "    s=(s*10)+p\n",
    "    n=n//10\n",
    "print(s)"
   ]
  },
  {
   "cell_type": "markdown",
   "metadata": {},
   "source": [
    "# Program-22"
   ]
  },
  {
   "cell_type": "code",
   "execution_count": 23,
   "metadata": {},
   "outputs": [
    {
     "name": "stdout",
     "output_type": "stream",
     "text": [
      "1331\n",
      "Palindrome\n"
     ]
    }
   ],
   "source": [
    "n=int(input())\n",
    "m=n\n",
    "s=0\n",
    "while(n>0):\n",
    "    p=n%10\n",
    "    s=(s*10)+p\n",
    "    n=n//10\n",
    "if m==s:\n",
    "    print(\"Palindrome\")\n",
    "else:\n",
    "    print(\"Not Palindrome\")"
   ]
  },
  {
   "cell_type": "markdown",
   "metadata": {},
   "source": [
    "# Program-23"
   ]
  },
  {
   "cell_type": "code",
   "execution_count": 11,
   "metadata": {},
   "outputs": [
    {
     "name": "stdout",
     "output_type": "stream",
     "text": [
      "1634\n",
      "Armstrong\n"
     ]
    }
   ],
   "source": [
    "n=int(input())\n",
    "m=n\n",
    "s=0\n",
    "c=len(str(n))\n",
    "while(n>0):\n",
    "    p=n%10\n",
    "    s=(p**c)+s\n",
    "    n=n//10\n",
    "if m==s:\n",
    "    print(\"Armstrong\")\n",
    "else:\n",
    "    print(\"Not armstrong\")"
   ]
  },
  {
   "cell_type": "markdown",
   "metadata": {},
   "source": [
    "# Program-24"
   ]
  },
  {
   "cell_type": "code",
   "execution_count": 1,
   "metadata": {},
   "outputs": [
    {
     "name": "stdout",
     "output_type": "stream",
     "text": [
      "684\n",
      "18\n",
      "192\n"
     ]
    }
   ],
   "source": [
    "n=int(input())\n",
    "s=0\n",
    "m=1\n",
    "while(n>0):\n",
    "    p=n%10\n",
    "    s=p+s\n",
    "    m=m*p\n",
    "    n=n//10\n",
    "print(s)\n",
    "print(m)"
   ]
  },
  {
   "cell_type": "markdown",
   "metadata": {},
   "source": [
    "# Program-25"
   ]
  },
  {
   "cell_type": "code",
   "execution_count": 5,
   "metadata": {},
   "outputs": [
    {
     "name": "stdout",
     "output_type": "stream",
     "text": [
      "123\n",
      "3 1 \n",
      "sum= 4\n"
     ]
    }
   ],
   "source": [
    "n=int(input())\n",
    "s=0\n",
    "while(n>0):\n",
    "    p=n%10\n",
    "    if p%2!=0:\n",
    "        print(p,end=' ')\n",
    "        s+=p\n",
    "    n=n//10\n",
    "print(\"\\nsum=\",s)\n"
   ]
  },
  {
   "cell_type": "markdown",
   "metadata": {},
   "source": [
    "# Functions\n",
    "# Program-26"
   ]
  },
  {
   "cell_type": "code",
   "execution_count": 6,
   "metadata": {},
   "outputs": [
    {
     "name": "stdout",
     "output_type": "stream",
     "text": [
      "4\n",
      "4 is even\n"
     ]
    }
   ],
   "source": [
    "n=int(input())\n",
    "def even(a):\n",
    "    if a%2==0:\n",
    "        print(a,\"is even\")\n",
    "    else:\n",
    "        print(a,\"is odd\")\n",
    "even(n)"
   ]
  },
  {
   "cell_type": "markdown",
   "metadata": {},
   "source": [
    "# Program-27"
   ]
  },
  {
   "cell_type": "code",
   "execution_count": 7,
   "metadata": {},
   "outputs": [
    {
     "name": "stdout",
     "output_type": "stream",
     "text": [
      "23\n",
      "Prime\n"
     ]
    }
   ],
   "source": [
    "n=int(input())\n",
    "def prime(a):\n",
    "    c=0\n",
    "    for i in range(2,n):\n",
    "        if n%i==0:\n",
    "            c+=1\n",
    "    if c==0:\n",
    "        print(\"Prime\")\n",
    "    else:\n",
    "        print(\"Not prime\")\n",
    "prime(n)"
   ]
  },
  {
   "cell_type": "markdown",
   "metadata": {},
   "source": [
    "# Program-28"
   ]
  },
  {
   "cell_type": "code",
   "execution_count": 20,
   "metadata": {},
   "outputs": [
    {
     "name": "stdout",
     "output_type": "stream",
     "text": [
      "50\n",
      "100\n",
      "75.0\n"
     ]
    }
   ],
   "source": [
    "m=int(input())\n",
    "n=int(input())\n",
    "def ave(b,a):\n",
    "    s=0\n",
    "    c=0\n",
    "    for i in range(b,a+1):\n",
    "        s+=i\n",
    "        c+=1\n",
    "    print(s/c)\n",
    "ave(m,n)\n",
    "        "
   ]
  },
  {
   "cell_type": "markdown",
   "metadata": {},
   "source": [
    "# Program-29"
   ]
  },
  {
   "cell_type": "code",
   "execution_count": 1,
   "metadata": {},
   "outputs": [
    {
     "name": "stdout",
     "output_type": "stream",
     "text": [
      "5\n",
      "120\n"
     ]
    }
   ],
   "source": [
    "n=int(input())\n",
    "def fact(a):\n",
    "    f=1\n",
    "    for i in range(1,a+1):\n",
    "        f*=i\n",
    "    print(f)\n",
    "fact(n)"
   ]
  }
 ],
 "metadata": {
  "kernelspec": {
   "display_name": "Python 3",
   "language": "python",
   "name": "python3"
  },
  "language_info": {
   "codemirror_mode": {
    "name": "ipython",
    "version": 3
   },
   "file_extension": ".py",
   "mimetype": "text/x-python",
   "name": "python",
   "nbconvert_exporter": "python",
   "pygments_lexer": "ipython3",
   "version": "3.8.5"
  }
 },
 "nbformat": 4,
 "nbformat_minor": 4
}
