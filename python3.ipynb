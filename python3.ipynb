{
  "nbformat": 4,
  "nbformat_minor": 0,
  "metadata": {
    "colab": {
      "name": "python3.ipynb",
      "provenance": [],
      "authorship_tag": "ABX9TyOBY7kWrR5SxnZMSvvQyG1J",
      "include_colab_link": true
    },
    "kernelspec": {
      "name": "python3",
      "display_name": "Python 3"
    },
    "language_info": {
      "name": "python"
    }
  },
  "cells": [
    {
      "cell_type": "markdown",
      "metadata": {
        "id": "view-in-github",
        "colab_type": "text"
      },
      "source": [
        "<a href=\"https://colab.research.google.com/github/19fe1a0570/python/blob/master/python3.ipynb\" target=\"_parent\"><img src=\"https://colab.research.google.com/assets/colab-badge.svg\" alt=\"Open In Colab\"/></a>"
      ]
    },
    {
      "cell_type": "markdown",
      "metadata": {
        "id": "I8RYrfM6mBqw"
      },
      "source": [
        "1. Write a program to print a multiplication table by taking the number, start, stop and step from the user as input."
      ]
    },
    {
      "cell_type": "code",
      "metadata": {
        "colab": {
          "base_uri": "https://localhost:8080/"
        },
        "id": "WVxWkxN1mEQN",
        "outputId": "a4c857e1-3019-4523-9c55-79c070e7bd7b"
      },
      "source": [
        "num=int(input(\"Enter number:\"))\n",
        "n=int(input(\"Starting range:\"))\n",
        "m=int(input(\"Ending range:\"))\n",
        "k=int(input(\"Step count:\"))\n",
        "for i in range(n,m+1,k):\n",
        "    print(num,\"x\",i,\"=\",num*i)"
      ],
      "execution_count": 1,
      "outputs": [
        {
          "output_type": "stream",
          "name": "stdout",
          "text": [
            "Enter number:5\n",
            "Starting range:1\n",
            "Ending range:10\n",
            "Step count:2\n",
            "5 x 1 = 5\n",
            "5 x 3 = 15\n",
            "5 x 5 = 25\n",
            "5 x 7 = 35\n",
            "5 x 9 = 45\n"
          ]
        }
      ]
    },
    {
      "cell_type": "markdown",
      "metadata": {
        "id": "tP_FX537mfD4"
      },
      "source": [
        "2a. Write a program that accepts start and stop as input from users and print if numbers from start to stop are positive or zero or negative."
      ]
    },
    {
      "cell_type": "code",
      "metadata": {
        "colab": {
          "base_uri": "https://localhost:8080/"
        },
        "id": "7VWp5AX_mo0D",
        "outputId": "a470557d-904c-44a6-de87-0335e7674e26"
      },
      "source": [
        "n=int(input(\"Starting range:\"))\n",
        "m=int(input(\"Ending range:\"))\n",
        "k=int(input(\"Step count:\"))\n",
        "for i in range(n,m+1,k):\n",
        "    if i > 0:\n",
        "       print(i,\"is a positive number\")\n",
        "    elif i == 0:\n",
        "       print(i,\"it is Zero\")\n",
        "    else:\n",
        "       print(i,\"is a negative number\")"
      ],
      "execution_count": 4,
      "outputs": [
        {
          "output_type": "stream",
          "name": "stdout",
          "text": [
            "Starting range:-5\n",
            "Ending range:5\n",
            "Step count:1\n",
            "-5 is a negative number\n",
            "-4 is a negative number\n",
            "-3 is a negative number\n",
            "-2 is a negative number\n",
            "-1 is a negative number\n",
            "0 it is Zero\n",
            "1 is a positive number\n",
            "2 is a positive number\n",
            "3 is a positive number\n",
            "4 is a positive number\n",
            "5 is a positive number\n"
          ]
        }
      ]
    },
    {
      "cell_type": "markdown",
      "metadata": {
        "id": "iu5Iv1wWnJsH"
      },
      "source": [
        "2b.Write a program that accepts start and stop as input from users and print if numbers from start to stop areif positive then it should also print even or odd number.Finally print the sum of all the numbers between start and stop"
      ]
    },
    {
      "cell_type": "code",
      "metadata": {
        "colab": {
          "base_uri": "https://localhost:8080/"
        },
        "id": "_32gcQ1PnaPB",
        "outputId": "a4e936a8-e9e6-48d8-c3e7-0338fd1516a6"
      },
      "source": [
        "n=int(input(\"Starting range:\"))\n",
        "m=int(input(\"Ending range:\"))\n",
        "k=int(input(\"Step count:\"))\n",
        "s=0\n",
        "for i in range(n,m+1,k):\n",
        "    s+=i\n",
        "    if i > 0:\n",
        "        if i%2== 0:\n",
        "           print(i,\"it is even\")\n",
        "        else:\n",
        "           print(i,\"it is odd\")\n",
        "\n",
        "print(\"The sum of all numbers from\",n,\"to\",m,\"with difference\",k,\"is:\",s)"
      ],
      "execution_count": 7,
      "outputs": [
        {
          "output_type": "stream",
          "name": "stdout",
          "text": [
            "Starting range:-10\n",
            "Ending range:5\n",
            "Step count:3\n",
            "2 it is even\n",
            "5 it is odd\n",
            "The sum of all numbers from -10 to 5 with difference 3 is: -15\n"
          ]
        }
      ]
    },
    {
      "cell_type": "markdown",
      "metadata": {
        "id": "Eu1xyZF4oCTH"
      },
      "source": [
        "3. Write a program that accepts start, stop, step and limit as input from the user and print cube of each number starting from start and ending at limit but not at stop.\n",
        "Ex: if the user gives start=1, end=10, step=1 and limit=5, your program should print cubes of numbers only from 1 to 5 and any number that is greater than 5(limit) should not be included.\n"
      ]
    },
    {
      "cell_type": "code",
      "metadata": {
        "colab": {
          "base_uri": "https://localhost:8080/"
        },
        "id": "s4Ae1bfloKgW",
        "outputId": "17694f91-5224-4cdc-a121-4609acf51188"
      },
      "source": [
        "n=int(input(\"Starting range:\"))\n",
        "m=int(input(\"Ending range:\"))\n",
        "k=int(input(\"Step count:\"))\n",
        "p=int(input(\"Limit:\"))\n",
        "for i in range(n,m+1,k):\n",
        "    if i>p:\n",
        "        break\n",
        "    print(\"The cube of the number\",i,\"is:\",i*i*i)"
      ],
      "execution_count": 11,
      "outputs": [
        {
          "output_type": "stream",
          "name": "stdout",
          "text": [
            "Starting range:1\n",
            "Ending range:10\n",
            "Step count:1\n",
            "Limit:5\n",
            "The cube of the number 1 is: 1\n",
            "The cube of the number 2 is: 8\n",
            "The cube of the number 3 is: 27\n",
            "The cube of the number 4 is: 64\n",
            "The cube of the number 5 is: 125\n"
          ]
        }
      ]
    }
  ]
}