{
 "cells": [
  {
   "cell_type": "markdown",
   "metadata": {},
   "source": [
    "# Text\n",
    "#### heading"
   ]
  },
  {
   "cell_type": "code",
   "execution_count": 1,
   "metadata": {},
   "outputs": [
    {
     "name": "stdout",
     "output_type": "stream",
     "text": [
      "hi welcome\n"
     ]
    }
   ],
   "source": [
    "print(\"hi welcome\")"
   ]
  },
  {
   "cell_type": "markdown",
   "metadata": {},
   "source": [
    "### Python\n",
    "- it is a general purpose,highlevel and interpreted programming language\n",
    "    - **general purpose**\n",
    "        - used for various realtime applications\n",
    "    - **high level programming language**\n",
    "        - understandable language\n",
    "    - **interpreted**\n",
    "        - gives us line by line execution\n",
    "- simple to learn\n"
   ]
  },
  {
   "cell_type": "code",
   "execution_count": 5,
   "metadata": {},
   "outputs": [
    {
     "name": "stdout",
     "output_type": "stream",
     "text": [
      "2000\n",
      "Leap year\n"
     ]
    }
   ],
   "source": [
    "#leap year definition\n",
    "year=int(input())\n",
    "if (year%400==0 or (year%100!=0 and year%4==0)):\n",
    "    print(\"Leap year\")\n",
    "else:\n",
    "    print(\"Not Leap year\")"
   ]
  },
  {
   "cell_type": "markdown",
   "metadata": {},
   "source": [
    "# Strings"
   ]
  },
  {
   "cell_type": "code",
   "execution_count": 3,
   "metadata": {},
   "outputs": [
    {
     "name": "stdout",
     "output_type": "stream",
     "text": [
      "12\n",
      "36\n",
      "54\n",
      "54 is greater\n"
     ]
    }
   ],
   "source": [
    "#write a program to read 3 numbers and print biggest number\n",
    "a,b,c=int(input()),int(input()),int(input())\n",
    "if a>b and a>c:\n",
    "    print(a,\"is greater\")\n",
    "if b>a and b>c:\n",
    "    print(b,\"is greater\")\n",
    "if c>a and c>b:\n",
    "    print(c,\"is greater\")\n",
    "    "
   ]
  },
  {
   "cell_type": "markdown",
   "metadata": {},
   "source": []
  },
  {
   "cell_type": "code",
   "execution_count": 2,
   "metadata": {},
   "outputs": [
    {
     "name": "stdout",
     "output_type": "stream",
     "text": [
      "2\n",
      "Perfect\n"
     ]
    }
   ],
   "source": [
    "### write a python program to print perfewct number in given range\n",
    "#where perfect number is a nuber that bis sum  of digits in it should be prime\n",
    "n=int(input())\n",
    "s=0\n",
    "while n>0:\n",
    "    p=n%10\n",
    "    s+=p\n",
    "    n=n//10\n",
    "for i in range(2,s):\n",
    "    if s%i==0:\n",
    "        print(\"NOt Perfect\")\n",
    "        break\n",
    "else:\n",
    "    print(\"Perfect\")"
   ]
  },
  {
   "cell_type": "code",
   "execution_count": null,
   "metadata": {},
   "outputs": [],
   "source": []
  },
  {
   "cell_type": "code",
   "execution_count": null,
   "metadata": {},
   "outputs": [],
   "source": []
  }
 ],
 "metadata": {
  "kernelspec": {
   "display_name": "Python 3",
   "language": "python",
   "name": "python3"
  },
  "language_info": {
   "codemirror_mode": {
    "name": "ipython",
    "version": 3
   },
   "file_extension": ".py",
   "mimetype": "text/x-python",
   "name": "python",
   "nbconvert_exporter": "python",
   "pygments_lexer": "ipython3",
   "version": "3.8.5"
  }
 },
 "nbformat": 4,
 "nbformat_minor": 4
}
