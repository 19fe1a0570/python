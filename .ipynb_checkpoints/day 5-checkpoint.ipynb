{
 "cells": [
  {
   "cell_type": "markdown",
   "metadata": {},
   "source": [
    "# Regular expressions\n",
    "\n",
    "- import regular expression package(re)\n",
    "\n",
    "- **Methods in regular expressions**\n",
    "    - Search \n",
    "    - Match\n",
    "    - Find all\n",
    "- **re.Method name(pattern,str/variable name**<br>\n",
    "- **Symbols used in re**\n",
    "<img src =\n",
    "\"https://miro.medium.com/max/1838/1*hjsbL45MhT2Tw5DGAYoAUg.png\">"
   ]
  },
  {
   "cell_type": "code",
   "execution_count": 1,
   "metadata": {},
   "outputs": [
    {
     "data": {
      "text/plain": [
       "['A',\n",
       " 'ASCII',\n",
       " 'DEBUG',\n",
       " 'DOTALL',\n",
       " 'I',\n",
       " 'IGNORECASE',\n",
       " 'L',\n",
       " 'LOCALE',\n",
       " 'M',\n",
       " 'MULTILINE',\n",
       " 'Match',\n",
       " 'Pattern',\n",
       " 'RegexFlag',\n",
       " 'S',\n",
       " 'Scanner',\n",
       " 'T',\n",
       " 'TEMPLATE',\n",
       " 'U',\n",
       " 'UNICODE',\n",
       " 'VERBOSE',\n",
       " 'X',\n",
       " '_MAXCACHE',\n",
       " '__all__',\n",
       " '__builtins__',\n",
       " '__cached__',\n",
       " '__doc__',\n",
       " '__file__',\n",
       " '__loader__',\n",
       " '__name__',\n",
       " '__package__',\n",
       " '__spec__',\n",
       " '__version__',\n",
       " '_cache',\n",
       " '_compile',\n",
       " '_compile_repl',\n",
       " '_expand',\n",
       " '_locale',\n",
       " '_pickle',\n",
       " '_special_chars_map',\n",
       " '_subx',\n",
       " 'compile',\n",
       " 'copyreg',\n",
       " 'enum',\n",
       " 'error',\n",
       " 'escape',\n",
       " 'findall',\n",
       " 'finditer',\n",
       " 'fullmatch',\n",
       " 'functools',\n",
       " 'match',\n",
       " 'purge',\n",
       " 'search',\n",
       " 'split',\n",
       " 'sre_compile',\n",
       " 'sre_parse',\n",
       " 'sub',\n",
       " 'subn',\n",
       " 'template']"
      ]
     },
     "execution_count": 1,
     "metadata": {},
     "output_type": "execute_result"
    }
   ],
   "source": [
    "import re\n",
    "dir(re)"
   ]
  },
  {
   "cell_type": "markdown",
   "metadata": {},
   "source": [
    "# Program-1"
   ]
  },
  {
   "cell_type": "code",
   "execution_count": 7,
   "metadata": {},
   "outputs": [
    {
     "name": "stdout",
     "output_type": "stream",
     "text": [
      "<re.Match object; span=(3, 5), match='na'>\n",
      "<re.Match object; span=(3, 4), match='n'>\n",
      "None\n"
     ]
    }
   ],
   "source": [
    "import re\n",
    "print(re.search(\"na\",'vignan'))\n",
    "print(re.search(\"n\",'vignan'))\n",
    "print(re.search(\"na\",'lara'))"
   ]
  },
  {
   "cell_type": "code",
   "execution_count": 6,
   "metadata": {},
   "outputs": [
    {
     "name": "stdout",
     "output_type": "stream",
     "text": [
      "None\n",
      "<re.Match object; span=(0, 2), match='la'>\n"
     ]
    }
   ],
   "source": [
    "import re\n",
    "print(re.match(\"na\",'vignan'))\n",
    "print(re.match(\"la\",'lara'))"
   ]
  },
  {
   "cell_type": "markdown",
   "metadata": {},
   "source": [
    "# Program-2"
   ]
  },
  {
   "cell_type": "code",
   "execution_count": 10,
   "metadata": {
    "scrolled": true
   },
   "outputs": [
    {
     "name": "stdout",
     "output_type": "stream",
     "text": [
      "['n', 'n']\n",
      "2\n"
     ]
    }
   ],
   "source": [
    "import re\n",
    "print(re.findall(\"n\",'vignan'))\n",
    "print(len(re.findall(\"n\",'vignan')))"
   ]
  },
  {
   "cell_type": "code",
   "execution_count": 12,
   "metadata": {},
   "outputs": [
    {
     "name": "stdout",
     "output_type": "stream",
     "text": [
      "<re.Match object; span=(0, 3), match='vig'>\n",
      "None\n"
     ]
    }
   ],
   "source": [
    "# \".\" Symbol\n",
    "print(re.match(\"...\",'vignan'))\n",
    "print(re.match(\"...\",'vi'))"
   ]
  },
  {
   "cell_type": "code",
   "execution_count": 14,
   "metadata": {},
   "outputs": [
    {
     "name": "stdout",
     "output_type": "stream",
     "text": [
      "<re.Match object; span=(0, 10), match='vignan Lar'>\n",
      "None\n"
     ]
    }
   ],
   "source": [
    "# {min,max}\n",
    "print(re.search(\".{3,10}\",'vignan Lara'))\n",
    "print(re.search(\".{8,10}\",'vignan'))"
   ]
  },
  {
   "cell_type": "code",
   "execution_count": 15,
   "metadata": {},
   "outputs": [
    {
     "name": "stdout",
     "output_type": "stream",
     "text": [
      "<re.Match object; span=(0, 3), match='Vig'>\n",
      "None\n",
      "<re.Match object; span=(0, 3), match='Vig'>\n"
     ]
    }
   ],
   "source": [
    "# \"^\"\n",
    "print(re.search(\"^Vig\",\"Vignan Lara\"))\n",
    "print(re.search(\"^Vig\",\"dfsrgVignan Lara\"))\n",
    "print(re.search(\"Vig\",\"Vignan Lara\"))"
   ]
  },
  {
   "cell_type": "code",
   "execution_count": 17,
   "metadata": {},
   "outputs": [
    {
     "name": "stdout",
     "output_type": "stream",
     "text": [
      "<re.Match object; span=(8, 11), match='ara'>\n",
      "<re.Match object; span=(8, 11), match='ara'>\n",
      "None\n"
     ]
    }
   ],
   "source": [
    "# \"$\"\n",
    "print(re.search(\"ara$\",\"Vignan Lara\"))\n",
    "print(re.search(\"ara\",\"Vignan Lara\"))\n",
    "print(re.search(\"ara$\",\"Vignan Larawrfg\"))"
   ]
  },
  {
   "cell_type": "code",
   "execution_count": 19,
   "metadata": {},
   "outputs": [
    {
     "name": "stdout",
     "output_type": "stream",
     "text": [
      "<re.Match object; span=(0, 0), match=''>\n",
      "<re.Match object; span=(0, 0), match=''>\n",
      "None\n",
      "<re.Match object; span=(6, 7), match=' '>\n"
     ]
    }
   ],
   "source": [
    "# \"*\"\n",
    "print(re.search(\" *\",'vigana Lara'))\n",
    "print(re.search(\" *\",'viganaLara'))\n",
    "print(re.search(\" \",'viganaLara'))\n",
    "print(re.search(\" \",'vigana Lara'))"
   ]
  },
  {
   "cell_type": "code",
   "execution_count": 21,
   "metadata": {},
   "outputs": [
    {
     "name": "stdout",
     "output_type": "stream",
     "text": [
      "<re.Match object; span=(6, 7), match=' '>\n",
      "None\n",
      "<re.Match object; span=(6, 12), match='      '>\n"
     ]
    }
   ],
   "source": [
    "# \"+\"\n",
    "print(re.search(\" +\",'vigana Lara'))\n",
    "print(re.search(\" +\",'viganaLara'))\n",
    "print(re.search(\" +\",'vigana      Lara'))"
   ]
  },
  {
   "cell_type": "code",
   "execution_count": 26,
   "metadata": {},
   "outputs": [
    {
     "name": "stdout",
     "output_type": "stream",
     "text": [
      "<re.Match object; span=(0, 1), match='V'>\n",
      "None\n",
      "<re.Match object; span=(0, 1), match='V'>\n",
      "<re.Match object; span=(6, 7), match='L'>\n",
      "<re.Match object; span=(7, 8), match='L'>\n",
      "<re.Match object; span=(0, 1), match='V'>\n",
      "None\n",
      "<re.Match object; span=(0, 1), match='V'>\n",
      "<re.Match object; span=(0, 1), match='i'>\n",
      "<re.Match object; span=(0, 1), match='v'>\n",
      "<re.Match object; span=(0, 1), match='g'>\n"
     ]
    }
   ],
   "source": [
    "# []\n",
    "print(re.search(\"[VLITS]\",\"Vigana Lara\"))\n",
    "print(re.search(\"[VLITS]\",\"igana ara\"))\n",
    "print(re.search(\"[VLITS]\",\"Vigana ara\"))\n",
    "print(re.search(\"[VLITS]\",\"igana Lara\"))\n",
    "print(re.search(\"[VLITS]\",\"vigana Lara\"))\n",
    "print(re.match(\"[VLITS]\",\"Vigana Lara\"))\n",
    "print(re.match(\"[VLITS]\",\"igana ara\"))\n",
    "print(re.match(\"[VLITS]\",\"Vigana ara\"))\n",
    "print(re.match(\"[VLiTS]\",\"igana Lara\"))\n",
    "print(re.match(\"[^VLITS]\",\"vigana Lara\"))\n",
    "print(re.match(\"[^VLITS]\",\"gana Lara\"))"
   ]
  },
  {
   "cell_type": "code",
   "execution_count": 28,
   "metadata": {},
   "outputs": [
    {
     "name": "stdout",
     "output_type": "stream",
     "text": [
      "<re.Match object; span=(7, 8), match='1'>\n",
      "<re.Match object; span=(3, 4), match='V'>\n",
      "<re.Match object; span=(7, 9), match='12'>\n",
      "<re.Match object; span=(6, 7), match=' '>\n",
      "<re.Match object; span=(0, 1), match='V'>\n",
      "<re.Match object; span=(3, 4), match='V'>\n"
     ]
    }
   ],
   "source": [
    "# \\D \\S \\d \\s\n",
    "print(re.search(\"\\d\",\"Vignan 123\"))\n",
    "print(re.search(\"\\D\",\"112Vignan 123\"))\n",
    "print(re.search(\"\\d\\d\",\"Vignan 123\"))\n",
    "print(re.search(\"\\s\",\"Vignan 123\"))\n",
    "print(re.search(\"\\S\",\"Vignan 123\"))\n",
    "print(re.search(\"\\S\",\"   Vignan 123\"))"
   ]
  },
  {
   "cell_type": "markdown",
   "metadata": {},
   "source": [
    "# Name Validators\n",
    "- M \n"
   ]
  },
  {
   "cell_type": "code",
   "execution_count": null,
   "metadata": {},
   "outputs": [],
   "source": [
    "n=input()\n",
    "p=\"[+]{0,1}[9][1][6-9][0-9]{9}|[0]{0,1}[6-9][0-9]{9}\"\n",
    "if re.match(p,n):\n",
    "    print(\"Accepted\")\n",
    "else:\n",
    "    print(\"Not Accepted\")"
   ]
  },
  {
   "cell_type": "code",
   "execution_count": 36,
   "metadata": {},
   "outputs": [
    {
     "name": "stdout",
     "output_type": "stream",
     "text": [
      "p.usha sree\n",
      "Accepted\n"
     ]
    }
   ],
   "source": [
    "n=input()\n",
    "p=\"[A-Z]{0,1}[a-z]{0,20}\"\n",
    "if re.match(p,n):\n",
    "    print(\"Accepted\")\n",
    "else:\n",
    "    print(\"Not Accepted\")"
   ]
  },
  {
   "cell_type": "markdown",
   "metadata": {},
   "source": [
    "# List Comprehension\n"
   ]
  },
  {
   "cell_type": "code",
   "execution_count": 50,
   "metadata": {},
   "outputs": [
    {
     "name": "stdout",
     "output_type": "stream",
     "text": [
      "[2, 4]\n",
      "[4, 16]\n"
     ]
    }
   ],
   "source": [
    "l=[1,2,3,4,5]\n",
    "print([i for i in l if i%2==0])\n",
    "print([i*i for i in l if i%2==0])"
   ]
  },
  {
   "cell_type": "code",
   "execution_count": 51,
   "metadata": {},
   "outputs": [
    {
     "name": "stdout",
     "output_type": "stream",
     "text": [
      "{1: 2, 5: 2, 2: 2, 3: 2, 4: 2}\n"
     ]
    }
   ],
   "source": [
    "l=[1,1,5,2,2,3,3,4,4,5]\n",
    "d={}\n",
    "for i in l:\n",
    "    d[i]=l.count(i)\n",
    "print(d)"
   ]
  },
  {
   "cell_type": "code",
   "execution_count": 52,
   "metadata": {},
   "outputs": [
    {
     "data": {
      "text/plain": [
       "{1: 2, 5: 2, 2: 2, 3: 2, 4: 2}"
      ]
     },
     "execution_count": 52,
     "metadata": {},
     "output_type": "execute_result"
    }
   ],
   "source": [
    "{i:l.count(i) for i in l}"
   ]
  },
  {
   "cell_type": "code",
   "execution_count": 53,
   "metadata": {},
   "outputs": [
    {
     "name": "stdout",
     "output_type": "stream",
     "text": [
      "[1, 1, 5, 2, 2, 3, 3, 4, 4, 5]\n"
     ]
    },
    {
     "data": {
      "text/plain": [
       "{1, 4, 27, 256, 3125}"
      ]
     },
     "execution_count": 53,
     "metadata": {},
     "output_type": "execute_result"
    }
   ],
   "source": [
    "print(l)\n",
    "{i**i for i in l}"
   ]
  },
  {
   "cell_type": "markdown",
   "metadata": {},
   "source": [
    "# File Handling\n",
    "- **Methods in file handling**\n",
    "    - write\n",
    "    - read\n",
    "- **Modes in file handling**\n",
    "    - write mode(w)\n",
    "    - read mode(r)\n",
    "    - append mode(a)\n",
    "- **Process of File handling\n",
    "    - open a file\n",
    "    - perform operations\n",
    "    - close a file"
   ]
  },
  {
   "cell_type": "code",
   "execution_count": 54,
   "metadata": {},
   "outputs": [
    {
     "name": "stdout",
     "output_type": "stream",
     "text": [
      "I am here\n"
     ]
    }
   ],
   "source": [
    "f=open(\"data.txt\",\"r\")\n",
    "print(f.read())\n",
    "f.close()"
   ]
  },
  {
   "cell_type": "code",
   "execution_count": 56,
   "metadata": {},
   "outputs": [
    {
     "name": "stdout",
     "output_type": "stream",
     "text": [
      "21\n"
     ]
    }
   ],
   "source": [
    "f=open(\"dat.txt\",\"w\")\n",
    "print(f.write(\"Hello, This is Sowmya\"))\n",
    "f.close()"
   ]
  },
  {
   "cell_type": "code",
   "execution_count": 58,
   "metadata": {},
   "outputs": [
    {
     "name": "stdout",
     "output_type": "stream",
     "text": [
      "29\n"
     ]
    }
   ],
   "source": [
    "f=open(\"dat.txt\",\"a\")\n",
    "print(f.write(\"\\nHello, This is Sowmya append\"))\n",
    "f.close()"
   ]
  },
  {
   "cell_type": "code",
   "execution_count": 59,
   "metadata": {},
   "outputs": [
    {
     "name": "stdout",
     "output_type": "stream",
     "text": [
      "Hello, This is SowmyaHello, This is Sowmya append\n",
      "Hello, This is Sowmya append\n"
     ]
    }
   ],
   "source": [
    "f=open(\"dat.txt\",\"r\")\n",
    "print(f.read())\n",
    "f.close()"
   ]
  },
  {
   "cell_type": "code",
   "execution_count": 60,
   "metadata": {},
   "outputs": [
    {
     "name": "stdout",
     "output_type": "stream",
     "text": [
      "Hello, This is SowmyaHello, This is Sowmya append\n",
      "Hello, This is Sowmya append\n",
      "63\n"
     ]
    }
   ],
   "source": [
    "f=open(\"dat.txt\",\"r\")\n",
    "fh=f.read()\n",
    "print(fh)\n",
    "c=0\n",
    "for i in fh:\n",
    "    if i.isalpha():\n",
    "        c+=1\n",
    "print(c)\n",
    "f.close()\n",
    "    "
   ]
  },
  {
   "cell_type": "code",
   "execution_count": 66,
   "metadata": {},
   "outputs": [
    {
     "name": "stdout",
     "output_type": "stream",
     "text": [
      "4\n"
     ]
    }
   ],
   "source": [
    "f=open(\"dat.txt\",\"r\")\n",
    "fh=f.read()\n",
    "s=fh.split()\n",
    "print(len(s))\n",
    "f.close()"
   ]
  },
  {
   "cell_type": "code",
   "execution_count": 67,
   "metadata": {},
   "outputs": [
    {
     "name": "stdout",
     "output_type": "stream",
     "text": [
      "6\n"
     ]
    }
   ],
   "source": [
    "f=open(\"dat.txt\",\"r\")\n",
    "fh=f.read()\n",
    "s=fh.split()\n",
    "p=set(s)\n",
    "print(len(p))\n",
    "f.close()"
   ]
  },
  {
   "cell_type": "markdown",
   "metadata": {},
   "source": [
    "# OOPS"
   ]
  },
  {
   "cell_type": "code",
   "execution_count": 71,
   "metadata": {},
   "outputs": [
    {
     "name": "stdout",
     "output_type": "stream",
     "text": [
      "The Honda City runs at the maximum speed of 150km/hr\n",
      "\n",
      "The skoda Oct runs at the maximum speed of 250km/hr\n"
     ]
    }
   ],
   "source": [
    "class Car:\n",
    "    def __init__(c,name,mileage):\n",
    "        c.name=name\n",
    "        c.mileage=mileage\n",
    "    def max_speed(c,speed):\n",
    "        c.speed=speed\n",
    "        return f\"The {c.name} runs at the maximum speed of {speed}km/hr\" \n",
    "    \n",
    "Honda=Car(\"Honda City\",21.4)\n",
    "print(Honda.max_speed(150))\n",
    "print()\n",
    "Skoda=Car(\"skoda Oct\",13)\n",
    "print(Skoda.max_speed(250))"
   ]
  },
  {
   "cell_type": "code",
   "execution_count": null,
   "metadata": {},
   "outputs": [],
   "source": []
  },
  {
   "cell_type": "code",
   "execution_count": null,
   "metadata": {},
   "outputs": [],
   "source": []
  }
 ],
 "metadata": {
  "kernelspec": {
   "display_name": "Python 3",
   "language": "python",
   "name": "python3"
  },
  "language_info": {
   "codemirror_mode": {
    "name": "ipython",
    "version": 3
   },
   "file_extension": ".py",
   "mimetype": "text/x-python",
   "name": "python",
   "nbconvert_exporter": "python",
   "pygments_lexer": "ipython3",
   "version": "3.8.5"
  }
 },
 "nbformat": 4,
 "nbformat_minor": 4
}
