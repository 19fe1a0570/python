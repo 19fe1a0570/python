{
 "cells": [
  {
   "cell_type": "markdown",
   "metadata": {},
   "source": [
    "# Program-1"
   ]
  },
  {
   "cell_type": "code",
   "execution_count": 14,
   "metadata": {},
   "outputs": [
    {
     "name": "stdout",
     "output_type": "stream",
     "text": [
      "1\n",
      "10\n",
      "2 3 5 7 "
     ]
    }
   ],
   "source": [
    "n=int(input())\n",
    "m=int(input())\n",
    "for num in range(n,m+1):\n",
    "    c=0\n",
    "    s=0\n",
    "    for i in str(num):\n",
    "        s+=int(i)\n",
    "    for j in range(1,s+1):\n",
    "        if s%j==0:\n",
    "            c+=1\n",
    "    if c==2:\n",
    "        print(num,end=' ')     "
   ]
  },
  {
   "cell_type": "markdown",
   "metadata": {},
   "source": [
    "# Program-2"
   ]
  },
  {
   "cell_type": "code",
   "execution_count": 7,
   "metadata": {},
   "outputs": [
    {
     "name": "stdout",
     "output_type": "stream",
     "text": [
      "\n",
      " 1. Chicken Biryani--->150 \n",
      " 2. Mutton Biryani--->180 \n",
      " 3. Panneer Biryani--->120 \n",
      " 4. Mushroom Biryani--->130 \n",
      " 5. Coke--->20 \n",
      "\n",
      "Enter item no:1\n",
      "Enter no. of plates:2\n",
      "\n",
      "Chicken Biryani - 150* 2 --> 300\n",
      "Enter item no:2\n",
      "Enter no. of plates:3\n",
      "\n",
      "Mutton Biryani - 180* 3 --> 540\n",
      "Enter item no:0\n",
      "Total ---> 840\n"
     ]
    }
   ],
   "source": [
    "print(\"\\n 1. Chicken Biryani--->150 \\n 2. Mutton Biryani--->180 \\n 3. Panneer Biryani--->120 \\n 4. Mushroom Biryani--->130 \\n 5. Coke--->20 \\n\")\n",
    "total=0\n",
    "n=1\n",
    "while(n>0):\n",
    "    s=int(input(\"Enter item no:\"))\n",
    "    cost=0\n",
    "    if(s==1):\n",
    "        q=int(input(\"Enter no. of plates:\"))\n",
    "        cost=q*150\n",
    "        total+=cost\n",
    "        print(\"\\nChicken Biryani - 150 *\",q,\"-->\",cost)\n",
    "    elif(s==2):\n",
    "        q=int(input(\"Enter no. of plates:\"))\n",
    "        cost=q*180\n",
    "        total+=cost\n",
    "        print(\"\\nMutton Biryani - 180 *\",q,\"-->\",cost)\n",
    "    elif(s==3):\n",
    "        q=int(input(\"Enter no. of plates:\"))\n",
    "        cost=q*120\n",
    "        total+=cost\n",
    "        print(\"\\nPanner Biryani - 120 *\",q,\"-->\",cost)\n",
    "    elif(s==4):\n",
    "        q=int(input(\"Enter no. of plates:\"))\n",
    "        cost=q*130\n",
    "        total+=cost\n",
    "        print(\"\\nMushroom Biryani - 130 *\",q,\"-->\",cost)\n",
    "    elif(s==5):\n",
    "        q=int(input(\"Enter no. of plates:\"))\n",
    "        cost=q*30\n",
    "        total+=cost\n",
    "        print(\"\\nCoke - 30 *\",q,\"-->\",cost)\n",
    "    else:\n",
    "        break\n",
    "print(\"Total --->\",total)\n",
    "        "
   ]
  },
  {
   "cell_type": "markdown",
   "metadata": {},
   "source": [
    "# Strings\n",
    "- **' '/\" \"**\n",
    "- Example \"a\",'word'\n",
    "- **str(345634789345)**\n",
    "    - Converts integer to string\n",
    "- **index is the representation of each character in string**"
   ]
  },
  {
   "cell_type": "markdown",
   "metadata": {},
   "source": [
    "# String Slicing\n",
    "- **accessing particular piece of data fron string**\n",
    "    - using index (lower,upper)\n",
    "- **forward indexing**\n",
    "    - 0 to len(str)-1\n",
    "- **Backward indexing**\n",
    "    - 1 to infinite\n",
    "    "
   ]
  },
  {
   "cell_type": "code",
   "execution_count": 13,
   "metadata": {},
   "outputs": [
    {
     "data": {
      "text/plain": [
       "'w'"
      ]
     },
     "execution_count": 13,
     "metadata": {},
     "output_type": "execute_result"
    }
   ],
   "source": [
    "n='sowmya'\n",
    "n[-4]"
   ]
  },
  {
   "cell_type": "code",
   "execution_count": 12,
   "metadata": {},
   "outputs": [
    {
     "data": {
      "text/plain": [
       "'sowm'"
      ]
     },
     "execution_count": 12,
     "metadata": {},
     "output_type": "execute_result"
    }
   ],
   "source": [
    "n[0:4]"
   ]
  },
  {
   "cell_type": "code",
   "execution_count": 15,
   "metadata": {},
   "outputs": [
    {
     "data": {
      "text/plain": [
       "'s'"
      ]
     },
     "execution_count": 15,
     "metadata": {},
     "output_type": "execute_result"
    }
   ],
   "source": [
    "n[0]"
   ]
  },
  {
   "cell_type": "code",
   "execution_count": 18,
   "metadata": {},
   "outputs": [
    {
     "data": {
      "text/plain": [
       "'swy'"
      ]
     },
     "execution_count": 18,
     "metadata": {},
     "output_type": "execute_result"
    }
   ],
   "source": [
    "n[::2] # for printing the letters with gap"
   ]
  },
  {
   "cell_type": "code",
   "execution_count": 21,
   "metadata": {},
   "outputs": [
    {
     "data": {
      "text/plain": [
       "'sowmya'"
      ]
     },
     "execution_count": 21,
     "metadata": {},
     "output_type": "execute_result"
    }
   ],
   "source": [
    "n[::1]"
   ]
  },
  {
   "cell_type": "code",
   "execution_count": 22,
   "metadata": {},
   "outputs": [
    {
     "data": {
      "text/plain": [
       "'aymwos'"
      ]
     },
     "execution_count": 22,
     "metadata": {},
     "output_type": "execute_result"
    }
   ],
   "source": [
    "n[::-1]"
   ]
  },
  {
   "cell_type": "code",
   "execution_count": 20,
   "metadata": {},
   "outputs": [
    {
     "data": {
      "text/plain": [
       "'amo'"
      ]
     },
     "execution_count": 20,
     "metadata": {},
     "output_type": "execute_result"
    }
   ],
   "source": [
    "n[::-2]"
   ]
  },
  {
   "cell_type": "markdown",
   "metadata": {},
   "source": [
    "# String Methods"
   ]
  },
  {
   "cell_type": "code",
   "execution_count": 8,
   "metadata": {
    "scrolled": true
   },
   "outputs": [
    {
     "data": {
      "text/plain": [
       "['__add__',\n",
       " '__class__',\n",
       " '__contains__',\n",
       " '__delattr__',\n",
       " '__dir__',\n",
       " '__doc__',\n",
       " '__eq__',\n",
       " '__format__',\n",
       " '__ge__',\n",
       " '__getattribute__',\n",
       " '__getitem__',\n",
       " '__getnewargs__',\n",
       " '__gt__',\n",
       " '__hash__',\n",
       " '__init__',\n",
       " '__init_subclass__',\n",
       " '__iter__',\n",
       " '__le__',\n",
       " '__len__',\n",
       " '__lt__',\n",
       " '__mod__',\n",
       " '__mul__',\n",
       " '__ne__',\n",
       " '__new__',\n",
       " '__reduce__',\n",
       " '__reduce_ex__',\n",
       " '__repr__',\n",
       " '__rmod__',\n",
       " '__rmul__',\n",
       " '__setattr__',\n",
       " '__sizeof__',\n",
       " '__str__',\n",
       " '__subclasshook__',\n",
       " 'capitalize',\n",
       " 'casefold',\n",
       " 'center',\n",
       " 'count',\n",
       " 'encode',\n",
       " 'endswith',\n",
       " 'expandtabs',\n",
       " 'find',\n",
       " 'format',\n",
       " 'format_map',\n",
       " 'index',\n",
       " 'isalnum',\n",
       " 'isalpha',\n",
       " 'isascii',\n",
       " 'isdecimal',\n",
       " 'isdigit',\n",
       " 'isidentifier',\n",
       " 'islower',\n",
       " 'isnumeric',\n",
       " 'isprintable',\n",
       " 'isspace',\n",
       " 'istitle',\n",
       " 'isupper',\n",
       " 'join',\n",
       " 'ljust',\n",
       " 'lower',\n",
       " 'lstrip',\n",
       " 'maketrans',\n",
       " 'partition',\n",
       " 'replace',\n",
       " 'rfind',\n",
       " 'rindex',\n",
       " 'rjust',\n",
       " 'rpartition',\n",
       " 'rsplit',\n",
       " 'rstrip',\n",
       " 'split',\n",
       " 'splitlines',\n",
       " 'startswith',\n",
       " 'strip',\n",
       " 'swapcase',\n",
       " 'title',\n",
       " 'translate',\n",
       " 'upper',\n",
       " 'zfill']"
      ]
     },
     "execution_count": 8,
     "metadata": {},
     "output_type": "execute_result"
    }
   ],
   "source": [
    "dir(str)"
   ]
  },
  {
   "cell_type": "markdown",
   "metadata": {},
   "source": [
    "# Program-3"
   ]
  },
  {
   "cell_type": "code",
   "execution_count": 44,
   "metadata": {},
   "outputs": [
    {
     "name": "stdout",
     "output_type": "stream",
     "text": [
      "and and\n",
      "0\n"
     ]
    }
   ],
   "source": [
    "n=input()\n",
    "#print(n.count(p)) # count is a keyword\n",
    "c=0\n",
    "for word in n:\n",
    "    if n==\"and\":\n",
    "        c+=1\n",
    "print(c)"
   ]
  },
  {
   "cell_type": "markdown",
   "metadata": {},
   "source": [
    "# Program-4"
   ]
  },
  {
   "cell_type": "code",
   "execution_count": 9,
   "metadata": {
    "collapsed": true
   },
   "outputs": [
    {
     "name": "stdout",
     "output_type": "stream",
     "text": [
      "i\n",
      "i\n",
      "am\n",
      "a\n",
      "m\n",
      "sowmya\n",
      "s\n",
      "o\n",
      "w\n",
      "m\n",
      "y\n",
      "a\n"
     ]
    }
   ],
   "source": [
    "for word in \"i am sowmya\".split():\n",
    "    print(word)\n",
    "    for ch in word:\n",
    "        print(ch)"
   ]
  },
  {
   "cell_type": "markdown",
   "metadata": {},
   "source": [
    "# Program-5"
   ]
  },
  {
   "cell_type": "code",
   "execution_count": 45,
   "metadata": {},
   "outputs": [
    {
     "name": "stdout",
     "output_type": "stream",
     "text": [
      "coosoeddo\n",
      "Yes\n"
     ]
    }
   ],
   "source": [
    "s=input()\n",
    "if s[0][0]==\"c\" and s[-1][-1]==\"o\": #if n.startswith(\"c\") and n.endwith(\"o\"):\n",
    "    print(\"Yes\")\n",
    "else:\n",
    "    print(\"No\")"
   ]
  },
  {
   "cell_type": "markdown",
   "metadata": {},
   "source": [
    "# Program-6"
   ]
  },
  {
   "cell_type": "code",
   "execution_count": 50,
   "metadata": {},
   "outputs": [
    {
     "name": "stdout",
     "output_type": "stream",
     "text": [
      "2 \n",
      "123 234\n",
      "5\n"
     ]
    }
   ],
   "source": [
    "n=int(input())\n",
    "p=input().split()[:n]\n",
    "s=0\n",
    "for num in p:\n",
    "    s+=int(num[1])\n",
    "print(s)"
   ]
  },
  {
   "cell_type": "markdown",
   "metadata": {},
   "source": [
    "# Program-7"
   ]
  },
  {
   "cell_type": "code",
   "execution_count": 59,
   "metadata": {},
   "outputs": [
    {
     "name": "stdout",
     "output_type": "stream",
     "text": [
      "11 21 31 97 43\n",
      "11 31 97 43 "
     ]
    }
   ],
   "source": [
    "def prime(a):\n",
    "    c=0\n",
    "    for i in range(2,a):\n",
    "        if a%i==0:\n",
    "            c+=1\n",
    "    return c\n",
    "n=input().split()\n",
    "for num in n:\n",
    "    m=prime(int(num))\n",
    "    if m==0:\n",
    "        print(num,end=' ')\n",
    "    "
   ]
  },
  {
   "cell_type": "markdown",
   "metadata": {},
   "source": [
    "# Program-8"
   ]
  },
  {
   "cell_type": "code",
   "execution_count": 5,
   "metadata": {},
   "outputs": [
    {
     "name": "stdout",
     "output_type": "stream",
     "text": [
      "I am StUDent vIgNAn\n",
      "\n",
      "lowercase vowels: a e \n",
      "Uppercase vowels: I U I A "
     ]
    }
   ],
   "source": [
    "n=input() #ch='AEIOUaeiou'\n",
    "def up(n):\n",
    "    print(\"\\nUppercase vowels:\",end=' ')\n",
    "    for num in n:\n",
    "        # if num in ch:\n",
    "        if num in ('A','E','I','O','U'): # if num.isupper()\n",
    "            print(num,end=' ')\n",
    "def lo(n):\n",
    "    print(\"\\nlowercase vowels:\",end=' ')\n",
    "    for num in n:\n",
    "        # if num in ch:\n",
    "        if num in ('a','e','i','o','u'):# if num.islower()\n",
    "            print(num,end=' ')\n",
    "lo(n)\n",
    "up(n)"
   ]
  },
  {
   "cell_type": "markdown",
   "metadata": {},
   "source": [
    "# Program-9"
   ]
  },
  {
   "cell_type": "code",
   "execution_count": 7,
   "metadata": {},
   "outputs": [
    {
     "name": "stdout",
     "output_type": "stream",
     "text": [
      "123\n",
      "6\n"
     ]
    }
   ],
   "source": [
    "n=input()\n",
    "s=0\n",
    "for i in range(0,len(n)):# for i in n:\n",
    "    s+=int(n[i])#s+=int(i)\n",
    "print(s)\n",
    "    "
   ]
  },
  {
   "cell_type": "markdown",
   "metadata": {},
   "source": [
    "# Program-10"
   ]
  },
  {
   "cell_type": "code",
   "execution_count": 8,
   "metadata": {},
   "outputs": [
    {
     "name": "stdout",
     "output_type": "stream",
     "text": [
      "19fe1a0570\n",
      "3\n",
      "7\n"
     ]
    }
   ],
   "source": [
    "n=input()\n",
    "c=0\n",
    "c0=0\n",
    "for i in n:\n",
    "    if i.isalpha():\n",
    "        c+=1\n",
    "    if i.isdigit():\n",
    "        c0+=1\n",
    "print(c)\n",
    "print(c0)"
   ]
  },
  {
   "cell_type": "markdown",
   "metadata": {},
   "source": [
    "# Program-11"
   ]
  },
  {
   "cell_type": "code",
   "execution_count": 15,
   "metadata": {},
   "outputs": [
    {
     "name": "stdout",
     "output_type": "stream",
     "text": [
      "3\n",
      "Enter length180\n",
      "640 420\n",
      "Crop it\n",
      "180 180\n",
      "Accepted\n",
      "120 300\n",
      "Upload photo\n"
     ]
    }
   ],
   "source": [
    "p=int(input())\n",
    "l=int(input(\"Enter length\"))\n",
    "for i in range(p):\n",
    "    n=input().split()\n",
    "    if (int(n[0])<l or int(n[1])<l):\n",
    "        print(\"Upload photo\")\n",
    "    else:\n",
    "        if int(n[0])==l and int(n[1])==l:\n",
    "            print(\"Accepted\")\n",
    "        else:\n",
    "            print(\"Crop it\")\n"
   ]
  },
  {
   "cell_type": "markdown",
   "metadata": {},
   "source": [
    "# Data Structures\n",
    "- **List**\n",
    "    - list is mutable\n",
    "\n",
    "- **Tuple**\n",
    "    - tuple not mutable\n",
    "\n",
    "\n",
    "- **Dictionary**\n",
    "\n",
    "- **Sets**\n",
    "    - duplicate elements are not allowed"
   ]
  },
  {
   "cell_type": "markdown",
   "metadata": {},
   "source": [
    "# Program-12"
   ]
  },
  {
   "cell_type": "code",
   "execution_count": 19,
   "metadata": {
    "scrolled": true
   },
   "outputs": [
    {
     "name": "stdout",
     "output_type": "stream",
     "text": [
      "[]\n",
      "<class 'list'>\n"
     ]
    }
   ],
   "source": [
    "li=[]\n",
    "print(li)\n",
    "print(type(li))"
   ]
  },
  {
   "cell_type": "code",
   "execution_count": 20,
   "metadata": {},
   "outputs": [
    {
     "data": {
      "text/plain": [
       "[2, 3.3, 'python', 'apple', 'I am here']"
      ]
     },
     "execution_count": 20,
     "metadata": {},
     "output_type": "execute_result"
    }
   ],
   "source": [
    "li=[2,3.3,\"python\",'apple',\"I am here\"]\n",
    "li"
   ]
  },
  {
   "cell_type": "code",
   "execution_count": 21,
   "metadata": {},
   "outputs": [
    {
     "data": {
      "text/plain": [
       "'python'"
      ]
     },
     "execution_count": 21,
     "metadata": {},
     "output_type": "execute_result"
    }
   ],
   "source": [
    "li[2]"
   ]
  },
  {
   "cell_type": "code",
   "execution_count": 22,
   "metadata": {},
   "outputs": [
    {
     "data": {
      "text/plain": [
       "'I am here'"
      ]
     },
     "execution_count": 22,
     "metadata": {},
     "output_type": "execute_result"
    }
   ],
   "source": [
    "li[-1]"
   ]
  },
  {
   "cell_type": "code",
   "execution_count": 23,
   "metadata": {},
   "outputs": [
    {
     "data": {
      "text/plain": [
       "['__add__',\n",
       " '__class__',\n",
       " '__contains__',\n",
       " '__delattr__',\n",
       " '__delitem__',\n",
       " '__dir__',\n",
       " '__doc__',\n",
       " '__eq__',\n",
       " '__format__',\n",
       " '__ge__',\n",
       " '__getattribute__',\n",
       " '__getitem__',\n",
       " '__gt__',\n",
       " '__hash__',\n",
       " '__iadd__',\n",
       " '__imul__',\n",
       " '__init__',\n",
       " '__init_subclass__',\n",
       " '__iter__',\n",
       " '__le__',\n",
       " '__len__',\n",
       " '__lt__',\n",
       " '__mul__',\n",
       " '__ne__',\n",
       " '__new__',\n",
       " '__reduce__',\n",
       " '__reduce_ex__',\n",
       " '__repr__',\n",
       " '__reversed__',\n",
       " '__rmul__',\n",
       " '__setattr__',\n",
       " '__setitem__',\n",
       " '__sizeof__',\n",
       " '__str__',\n",
       " '__subclasshook__',\n",
       " 'append',\n",
       " 'clear',\n",
       " 'copy',\n",
       " 'count',\n",
       " 'extend',\n",
       " 'index',\n",
       " 'insert',\n",
       " 'pop',\n",
       " 'remove',\n",
       " 'reverse',\n",
       " 'sort']"
      ]
     },
     "execution_count": 23,
     "metadata": {},
     "output_type": "execute_result"
    }
   ],
   "source": [
    "dir(list)"
   ]
  },
  {
   "cell_type": "markdown",
   "metadata": {},
   "source": [
    "# Program-13"
   ]
  },
  {
   "cell_type": "code",
   "execution_count": 26,
   "metadata": {},
   "outputs": [
    {
     "name": "stdout",
     "output_type": "stream",
     "text": [
      "21\n",
      "78\n",
      "237\n",
      "[21, 23, 56, 59, 78]\n",
      "5\n",
      "[21, 22, 23, 56, 78, 59]\n"
     ]
    }
   ],
   "source": [
    "p=[21,23,56,78,59]\n",
    "print(min(p))\n",
    "print(max(p))\n",
    "print(sum(p))\n",
    "print(sorted(p))\n",
    "print(len(p))\n",
    "p.insert(1,22)\n",
    "i=p.copy()\n",
    "print(i)"
   ]
  },
  {
   "cell_type": "markdown",
   "metadata": {},
   "source": [
    "# Program-14"
   ]
  },
  {
   "cell_type": "code",
   "execution_count": 39,
   "metadata": {
    "scrolled": true
   },
   "outputs": [
    {
     "name": "stdout",
     "output_type": "stream",
     "text": [
      "279\n"
     ]
    }
   ],
   "source": [
    "k=[22,34,[346,279],345,66]\n",
    "print(k[2][1])"
   ]
  },
  {
   "cell_type": "markdown",
   "metadata": {},
   "source": [
    "# Program-15"
   ]
  },
  {
   "cell_type": "code",
   "execution_count": 40,
   "metadata": {},
   "outputs": [
    {
     "name": "stdout",
     "output_type": "stream",
     "text": [
      "[34, 12, 45, 56, 89]\n"
     ]
    }
   ],
   "source": [
    "n=[34,12,45,12,34,56,89]\n",
    "p=[]\n",
    "for i in n:\n",
    "    if i not in p:\n",
    "        p.append(i)\n",
    "print(p)"
   ]
  },
  {
   "cell_type": "markdown",
   "metadata": {},
   "source": [
    "# Program-16"
   ]
  },
  {
   "cell_type": "code",
   "execution_count": 47,
   "metadata": {},
   "outputs": [
    {
     "name": "stdout",
     "output_type": "stream",
     "text": [
      "[34, 45, 56, 89]\n"
     ]
    }
   ],
   "source": [
    "n=[34,12,45,12,12,56,89]\n",
    "p=[]\n",
    "for i in n:\n",
    "    if n.count(i)==1:\n",
    "        p.append(i)\n",
    "print(p)"
   ]
  },
  {
   "cell_type": "markdown",
   "metadata": {},
   "source": [
    "# Program-17"
   ]
  },
  {
   "cell_type": "code",
   "execution_count": 51,
   "metadata": {},
   "outputs": [
    {
     "name": "stdout",
     "output_type": "stream",
     "text": [
      "15\n"
     ]
    }
   ],
   "source": [
    "n=[1,2,3,4,5]\n",
    "s=0\n",
    "for i in n:\n",
    "    s+=i\n",
    "print(s)"
   ]
  },
  {
   "cell_type": "code",
   "execution_count": null,
   "metadata": {},
   "outputs": [],
   "source": [
    "n=[1,2,3,4,5]"
   ]
  }
 ],
 "metadata": {
  "kernelspec": {
   "display_name": "Python 3",
   "language": "python",
   "name": "python3"
  },
  "language_info": {
   "codemirror_mode": {
    "name": "ipython",
    "version": 3
   },
   "file_extension": ".py",
   "mimetype": "text/x-python",
   "name": "python",
   "nbconvert_exporter": "python",
   "pygments_lexer": "ipython3",
   "version": "3.8.5"
  }
 },
 "nbformat": 4,
 "nbformat_minor": 4
}
